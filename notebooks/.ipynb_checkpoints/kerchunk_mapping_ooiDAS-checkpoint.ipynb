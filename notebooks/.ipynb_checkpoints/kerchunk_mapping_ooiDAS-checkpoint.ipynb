{
 "cells": [
  {
   "cell_type": "markdown",
   "id": "643cd602-8e43-4bb3-ac1b-e95608e0550a",
   "metadata": {},
   "source": [
    "# Build kerchunk_mapping_ooiDAS script"
   ]
  },
  {
   "cell_type": "code",
   "execution_count": 1,
   "id": "9c2e079c-8fa3-4fb7-b12a-10f41620ad24",
   "metadata": {},
   "outputs": [],
   "source": [
    "import fsspec\n",
    "import kerchunk.hdf\n",
    "import zarr\n",
    "import h5py\n",
    "\n",
    "import xarray as xr\n",
    "import dask\n",
    "from dask.distributed import Client\n",
    "import os\n",
    "import sys\n",
    "from azure.storage.blob import BlobServiceClient, ContainerClient\n",
    "from tqdm import tqdm"
   ]
  },
  {
   "cell_type": "code",
   "execution_count": 2,
   "id": "958f441c-728e-4846-9638-fdd8654a3815",
   "metadata": {},
   "outputs": [],
   "source": [
    "# Set the account name, container name, and file path\n",
    "account_name = \"dasdata\"\n",
    "container_name = \"hdf5\"\n",
    "connection_string = os.environ['AZURE_CONSTR_dasdata']\n",
    "\n",
    "file_path = \"South-C1-LR-95km-P1kHz-GL50m-SP2m-FS200Hz_2021-11-01T231114Z.h5\""
   ]
  },
  {
   "cell_type": "code",
   "execution_count": 4,
   "id": "fea74d27-c70e-4457-ad79-98ba80a652d6",
   "metadata": {},
   "outputs": [],
   "source": [
    "# Create a container client object\n",
    "container_client = ContainerClient.from_connection_string(conn_str=connection_string, container_name=container_name)\n",
    "\n",
    "# Create an empty list to hold file names\n",
    "file_names = []\n",
    "\n",
    "# Loop through all blobs in the container and append their names to the list\n",
    "for blob in container_client.list_blobs():\n",
    "    file_names.append(blob.name)"
   ]
  },
  {
   "cell_type": "code",
   "execution_count": 8,
   "id": "8f51c301-1142-46eb-a659-32f73c8fff33",
   "metadata": {},
   "outputs": [
    {
     "data": {
      "text/plain": [
       "232"
      ]
     },
     "execution_count": 8,
     "metadata": {},
     "output_type": "execute_result"
    }
   ],
   "source": [
    "# Set the blob URL using the fsspec AzureBlobFileSystem\n",
    "url = f\"az://{container_name}/{file_path}\"\n",
    "openfile = fsspec.open(url, account_name=account_name)\n",
    "\n",
    "# Generate dictionary\n",
    "h5chunks = kerchunk.hdf.SingleHdf5ToZarr(openfile.open(), url)\n",
    "out = h5chunks.translate()"
   ]
  }
 ],
 "metadata": {
  "kernelspec": {
   "display_name": "Python 3 (ipykernel)",
   "language": "python",
   "name": "python3"
  },
  "language_info": {
   "codemirror_mode": {
    "name": "ipython",
    "version": 3
   },
   "file_extension": ".py",
   "mimetype": "text/x-python",
   "name": "python",
   "nbconvert_exporter": "python",
   "pygments_lexer": "ipython3",
   "version": "3.10.4"
  }
 },
 "nbformat": 4,
 "nbformat_minor": 5
}

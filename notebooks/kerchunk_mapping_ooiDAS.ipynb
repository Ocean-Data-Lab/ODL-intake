{
 "cells": [
  {
   "cell_type": "markdown",
   "id": "643cd602-8e43-4bb3-ac1b-e95608e0550a",
   "metadata": {},
   "source": [
    "## Build kerchunk_mapping_ooiDAS script"
   ]
  },
  {
   "cell_type": "code",
   "execution_count": 16,
   "id": "9c2e079c-8fa3-4fb7-b12a-10f41620ad24",
   "metadata": {},
   "outputs": [],
   "source": [
    "import fsspec\n",
    "import kerchunk.hdf\n",
    "import zarr\n",
    "import h5py\n",
    "\n",
    "import xarray as xr\n",
    "import dask\n",
    "from dask.distributed import Client\n",
    "import os\n",
    "import sys\n",
    "from azure.storage.blob import BlobServiceClient, ContainerClient\n",
    "from tqdm import tqdm\n",
    "import ujson\n",
    "import multiprocessing"
   ]
  },
  {
   "cell_type": "code",
   "execution_count": 40,
   "id": "958f441c-728e-4846-9638-fdd8654a3815",
   "metadata": {},
   "outputs": [],
   "source": [
    "# Set the account name, container name, and file path\n",
    "account_name = \"dasdata\"\n",
    "container_name = \"hdf5\"\n",
    "connection_string = os.environ['AZURE_CONSTR_dasdata']\n",
    "\n",
    "file_path = \"South-C1-LR-95km-P1kHz-GL50m-SP2m-FS200Hz_2021-11-01T231114Z.h5\""
   ]
  },
  {
   "cell_type": "code",
   "execution_count": 4,
   "id": "fea74d27-c70e-4457-ad79-98ba80a652d6",
   "metadata": {},
   "outputs": [],
   "source": [
    "# Create a container client object\n",
    "container_client = ContainerClient.from_connection_string(conn_str=connection_string, container_name=container_name)\n",
    "\n",
    "# Create an empty list to hold file names\n",
    "file_names = []\n",
    "\n",
    "# Loop through all blobs in the container and append their names to the list\n",
    "for blob in container_client.list_blobs():\n",
    "    file_names.append(blob.name)"
   ]
  },
  {
   "cell_type": "code",
   "execution_count": 20,
   "id": "3b4a048c-fb5a-4a47-b86d-6a2f76a3f8a9",
   "metadata": {},
   "outputs": [
    {
     "data": {
      "text/plain": [
       "3981"
      ]
     },
     "execution_count": 20,
     "metadata": {},
     "output_type": "execute_result"
    }
   ],
   "source": [
    "len(file_names)"
   ]
  },
  {
   "cell_type": "code",
   "execution_count": null,
   "id": "7a68ca80-981f-49f3-a922-794c20b9d0f4",
   "metadata": {},
   "outputs": [],
   "source": [
    "def get_kerchunk_mapping(file):\n",
    "    print(multiprocessing.current_process().name)\n",
    "    \n",
    "    # Set the blob URL using the fsspec AzureBlobFileSystem\n",
    "    url = f\"az://{container_name}/{file}\"\n",
    "    openfile = fsspec.open(url, account_name=account_name)\n",
    "    \n",
    "    # Generate dictionary\n",
    "    h5chunks = kerchunk.hdf.SingleHdf5ToZarr(openfile.open(), url)\n",
    "\n",
    "    outf = f'json_files/{file[:-3]}.json'\n",
    "    with fs2.open(outf, 'wb') as f:\n",
    "        f.write(ujson.dumps(h5chunks.translate()).encode())\n",
    "\n",
    "# Create a multiprocessing pool with the number of available CPUs\n",
    "pool = multiprocessing.Pool(processes=multiprocessing.cpu_count())\n",
    "\n",
    "# Map the file processing function to the pool\n",
    "results = pool.map(get_kerchunk_mapping, file_names)\n",
    "\n",
    "# Close the pool to release resources\n",
    "pool.close()\n",
    "pool.join()"
   ]
  },
  {
   "cell_type": "code",
   "execution_count": null,
   "id": "ec80e661-100f-4386-8bc5-7ed7f469bd37",
   "metadata": {},
   "outputs": [],
   "source": []
  },
  {
   "cell_type": "code",
   "execution_count": null,
   "id": "8f51c301-1142-46eb-a659-32f73c8fff33",
   "metadata": {},
   "outputs": [],
   "source": [
    "fs2 = fsspec.filesystem('')  #local file system to save final jsons to\n",
    "\n",
    "outs = []\n",
    "for file in tqdm(file_names):\n",
    "\n",
    "    # Set the blob URL using the fsspec AzureBlobFileSystem\n",
    "    url = f\"az://{container_name}/{file}\"\n",
    "    openfile = fsspec.open(url, account_name=account_name)\n",
    "\n",
    "    # Generate dictionary\n",
    "    h5chunks = kerchunk.hdf.SingleHdf5ToZarr(openfile.open(), url)\n",
    "    \n",
    "    #out.append(h5chunks.translate())\n",
    "    \n",
    "    outf = f'json_files/{file[:-3]}.json'\n",
    "    with fs2.open(outf, 'wb') as f:\n",
    "        f.write(ujson.dumps(h5chunks.translate()).encode());"
   ]
  },
  {
   "cell_type": "markdown",
   "id": "c67a134f-f647-4b3c-8956-65f5e7e84361",
   "metadata": {},
   "source": [
    "## Combine Files"
   ]
  },
  {
   "cell_type": "code",
   "execution_count": 49,
   "id": "217e846b-c730-4b72-9af9-2483d1784c72",
   "metadata": {},
   "outputs": [],
   "source": [
    "from kerchunk.combine import MultiZarrToZarr\n",
    "import glob"
   ]
  },
  {
   "cell_type": "code",
   "execution_count": 70,
   "id": "e214fdc1-a1ba-4f0b-b151-19ddc46c0858",
   "metadata": {},
   "outputs": [],
   "source": [
    "# TODO remove absolute path\n",
    "json_file_path = '/home/jhrag/Code/ODLintake/scripts/json_files/'\n",
    "json_list = [f'{json_file_path}{f}' for f in os.listdir(json_file_path)]"
   ]
  },
  {
   "cell_type": "code",
   "execution_count": 71,
   "id": "0a9954de-6617-4a72-a7c3-4ca67f6884b2",
   "metadata": {},
   "outputs": [
    {
     "name": "stdout",
     "output_type": "stream",
     "text": [
      "removed /home/jhrag/Code/ODLintake/scripts/json_files/.ipynb_checkpoints\n"
     ]
    }
   ],
   "source": [
    "for f in json_list:\n",
    "    if f[-4:] != 'json':\n",
    "        json_list.remove(f)\n",
    "        print(f'removed {f}')"
   ]
  },
  {
   "cell_type": "code",
   "execution_count": 73,
   "id": "b1a2fc2a-e8e8-4393-8f59-d2775cfcde61",
   "metadata": {},
   "outputs": [],
   "source": [
    "mzz = MultiZarrToZarr(\n",
    "    json_list,\n",
    "    remote_protocol=\"az\",\n",
    "    storage_options=dict(account_name=account_name, connection_string=connection_string),\n",
    "    concat_dims=[\"time\"]\n",
    ")"
   ]
  },
  {
   "cell_type": "code",
   "execution_count": 74,
   "id": "9ddad161-e893-4a4e-8930-b4aedb77172d",
   "metadata": {},
   "outputs": [
    {
     "ename": "JSONDecodeError",
     "evalue": "Expected object or value",
     "output_type": "error",
     "traceback": [
      "\u001b[0;31m---------------------------------------------------------------------------\u001b[0m",
      "\u001b[0;31mJSONDecodeError\u001b[0m                           Traceback (most recent call last)",
      "Input \u001b[0;32mIn [74]\u001b[0m, in \u001b[0;36m<cell line: 1>\u001b[0;34m()\u001b[0m\n\u001b[0;32m----> 1\u001b[0m \u001b[43mmzz\u001b[49m\u001b[38;5;241;43m.\u001b[39;49m\u001b[43mtranslate\u001b[49m\u001b[43m(\u001b[49m\u001b[43m)\u001b[49m\n",
      "File \u001b[0;32m~/anaconda3/envs/ooi_dev/lib/python3.10/site-packages/kerchunk/combine.py:479\u001b[0m, in \u001b[0;36mMultiZarrToZarr.translate\u001b[0;34m(self, filename, storage_options)\u001b[0m\n\u001b[1;32m    473\u001b[0m \u001b[38;5;124;03m\"\"\"Perform all stages and return the resultant references dict\u001b[39;00m\n\u001b[1;32m    474\u001b[0m \n\u001b[1;32m    475\u001b[0m \u001b[38;5;124;03mIf filename and storage options are given, the output is written to this\u001b[39;00m\n\u001b[1;32m    476\u001b[0m \u001b[38;5;124;03mfile using ujson and fsspec instead of being returned.\u001b[39;00m\n\u001b[1;32m    477\u001b[0m \u001b[38;5;124;03m\"\"\"\u001b[39;00m\n\u001b[1;32m    478\u001b[0m \u001b[38;5;28;01mif\u001b[39;00m \u001b[38;5;241m1\u001b[39m \u001b[38;5;129;01mnot\u001b[39;00m \u001b[38;5;129;01min\u001b[39;00m \u001b[38;5;28mself\u001b[39m\u001b[38;5;241m.\u001b[39mdone:\n\u001b[0;32m--> 479\u001b[0m     \u001b[38;5;28;43mself\u001b[39;49m\u001b[38;5;241;43m.\u001b[39;49m\u001b[43mfirst_pass\u001b[49m\u001b[43m(\u001b[49m\u001b[43m)\u001b[49m\n\u001b[1;32m    480\u001b[0m \u001b[38;5;28;01mif\u001b[39;00m \u001b[38;5;241m2\u001b[39m \u001b[38;5;129;01mnot\u001b[39;00m \u001b[38;5;129;01min\u001b[39;00m \u001b[38;5;28mself\u001b[39m\u001b[38;5;241m.\u001b[39mdone:\n\u001b[1;32m    481\u001b[0m     \u001b[38;5;28mself\u001b[39m\u001b[38;5;241m.\u001b[39mstore_coords()\n",
      "File \u001b[0;32m~/anaconda3/envs/ooi_dev/lib/python3.10/site-packages/kerchunk/combine.py:239\u001b[0m, in \u001b[0;36mMultiZarrToZarr.first_pass\u001b[0;34m(self)\u001b[0m\n\u001b[1;32m    236\u001b[0m \u001b[38;5;124;03m\"\"\"Accumulate the set of concat coords values across all inputs\"\"\"\u001b[39;00m\n\u001b[1;32m    238\u001b[0m coos \u001b[38;5;241m=\u001b[39m {c: \u001b[38;5;28mset\u001b[39m() \u001b[38;5;28;01mfor\u001b[39;00m c \u001b[38;5;129;01min\u001b[39;00m \u001b[38;5;28mself\u001b[39m\u001b[38;5;241m.\u001b[39mcoo_map}\n\u001b[0;32m--> 239\u001b[0m \u001b[38;5;28;01mfor\u001b[39;00m i, fs \u001b[38;5;129;01min\u001b[39;00m \u001b[38;5;28menumerate\u001b[39m(\u001b[38;5;28;43mself\u001b[39;49m\u001b[38;5;241;43m.\u001b[39;49m\u001b[43mfss\u001b[49m):\n\u001b[1;32m    240\u001b[0m     \u001b[38;5;28;01mif\u001b[39;00m \u001b[38;5;28mself\u001b[39m\u001b[38;5;241m.\u001b[39mpreprocess:\n\u001b[1;32m    241\u001b[0m         \u001b[38;5;28mself\u001b[39m\u001b[38;5;241m.\u001b[39mpreprocess(fs\u001b[38;5;241m.\u001b[39mreferences)\n",
      "File \u001b[0;32m~/anaconda3/envs/ooi_dev/lib/python3.10/site-packages/kerchunk/combine.py:163\u001b[0m, in \u001b[0;36mMultiZarrToZarr.fss\u001b[0;34m(self)\u001b[0m\n\u001b[1;32m    161\u001b[0m         fs \u001b[38;5;241m=\u001b[39m fsspec\u001b[38;5;241m.\u001b[39mcore\u001b[38;5;241m.\u001b[39murl_to_fs(\u001b[38;5;28mself\u001b[39m\u001b[38;5;241m.\u001b[39mpath[\u001b[38;5;241m0\u001b[39m], \u001b[38;5;241m*\u001b[39m\u001b[38;5;241m*\u001b[39m\u001b[38;5;28mself\u001b[39m\u001b[38;5;241m.\u001b[39mtarget_options)[\u001b[38;5;241m0\u001b[39m]\n\u001b[1;32m    162\u001b[0m         fo_list \u001b[38;5;241m=\u001b[39m fs\u001b[38;5;241m.\u001b[39mcat(\u001b[38;5;28mself\u001b[39m\u001b[38;5;241m.\u001b[39mpath)\n\u001b[0;32m--> 163\u001b[0m         fo_list \u001b[38;5;241m=\u001b[39m [ujson\u001b[38;5;241m.\u001b[39mloads(v) \u001b[38;5;28;01mfor\u001b[39;00m v \u001b[38;5;129;01min\u001b[39;00m fo_list\u001b[38;5;241m.\u001b[39mvalues()]\n\u001b[1;32m    165\u001b[0m     \u001b[38;5;28mself\u001b[39m\u001b[38;5;241m.\u001b[39m_fss \u001b[38;5;241m=\u001b[39m [\n\u001b[1;32m    166\u001b[0m         fsspec\u001b[38;5;241m.\u001b[39mfilesystem(\n\u001b[1;32m    167\u001b[0m             \u001b[38;5;124m\"\u001b[39m\u001b[38;5;124mreference\u001b[39m\u001b[38;5;124m\"\u001b[39m,\n\u001b[0;32m   (...)\u001b[0m\n\u001b[1;32m    172\u001b[0m         \u001b[38;5;28;01mfor\u001b[39;00m fo \u001b[38;5;129;01min\u001b[39;00m fo_list\n\u001b[1;32m    173\u001b[0m     ]\n\u001b[1;32m    174\u001b[0m \u001b[38;5;28;01mreturn\u001b[39;00m \u001b[38;5;28mself\u001b[39m\u001b[38;5;241m.\u001b[39m_fss\n",
      "File \u001b[0;32m~/anaconda3/envs/ooi_dev/lib/python3.10/site-packages/kerchunk/combine.py:163\u001b[0m, in \u001b[0;36m<listcomp>\u001b[0;34m(.0)\u001b[0m\n\u001b[1;32m    161\u001b[0m         fs \u001b[38;5;241m=\u001b[39m fsspec\u001b[38;5;241m.\u001b[39mcore\u001b[38;5;241m.\u001b[39murl_to_fs(\u001b[38;5;28mself\u001b[39m\u001b[38;5;241m.\u001b[39mpath[\u001b[38;5;241m0\u001b[39m], \u001b[38;5;241m*\u001b[39m\u001b[38;5;241m*\u001b[39m\u001b[38;5;28mself\u001b[39m\u001b[38;5;241m.\u001b[39mtarget_options)[\u001b[38;5;241m0\u001b[39m]\n\u001b[1;32m    162\u001b[0m         fo_list \u001b[38;5;241m=\u001b[39m fs\u001b[38;5;241m.\u001b[39mcat(\u001b[38;5;28mself\u001b[39m\u001b[38;5;241m.\u001b[39mpath)\n\u001b[0;32m--> 163\u001b[0m         fo_list \u001b[38;5;241m=\u001b[39m [\u001b[43mujson\u001b[49m\u001b[38;5;241;43m.\u001b[39;49m\u001b[43mloads\u001b[49m\u001b[43m(\u001b[49m\u001b[43mv\u001b[49m\u001b[43m)\u001b[49m \u001b[38;5;28;01mfor\u001b[39;00m v \u001b[38;5;129;01min\u001b[39;00m fo_list\u001b[38;5;241m.\u001b[39mvalues()]\n\u001b[1;32m    165\u001b[0m     \u001b[38;5;28mself\u001b[39m\u001b[38;5;241m.\u001b[39m_fss \u001b[38;5;241m=\u001b[39m [\n\u001b[1;32m    166\u001b[0m         fsspec\u001b[38;5;241m.\u001b[39mfilesystem(\n\u001b[1;32m    167\u001b[0m             \u001b[38;5;124m\"\u001b[39m\u001b[38;5;124mreference\u001b[39m\u001b[38;5;124m\"\u001b[39m,\n\u001b[0;32m   (...)\u001b[0m\n\u001b[1;32m    172\u001b[0m         \u001b[38;5;28;01mfor\u001b[39;00m fo \u001b[38;5;129;01min\u001b[39;00m fo_list\n\u001b[1;32m    173\u001b[0m     ]\n\u001b[1;32m    174\u001b[0m \u001b[38;5;28;01mreturn\u001b[39;00m \u001b[38;5;28mself\u001b[39m\u001b[38;5;241m.\u001b[39m_fss\n",
      "\u001b[0;31mJSONDecodeError\u001b[0m: Expected object or value"
     ]
    }
   ],
   "source": [
    "mzz.translate()"
   ]
  },
  {
   "cell_type": "code",
   "execution_count": null,
   "id": "d44b12bb-4b9d-45ae-af6f-10ef24fcb69c",
   "metadata": {},
   "outputs": [],
   "source": []
  }
 ],
 "metadata": {
  "kernelspec": {
   "display_name": "Python 3 (ipykernel)",
   "language": "python",
   "name": "python3"
  },
  "language_info": {
   "codemirror_mode": {
    "name": "ipython",
    "version": 3
   },
   "file_extension": ".py",
   "mimetype": "text/x-python",
   "name": "python",
   "nbconvert_exporter": "python",
   "pygments_lexer": "ipython3",
   "version": "3.10.4"
  }
 },
 "nbformat": 4,
 "nbformat_minor": 5
}

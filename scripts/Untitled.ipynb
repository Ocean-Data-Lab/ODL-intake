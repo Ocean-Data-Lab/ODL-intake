{
 "cells": [
  {
   "cell_type": "markdown",
   "id": "95694073-204e-45c9-8761-30e9332ed71a",
   "metadata": {},
   "source": [
    "# combine json files"
   ]
  },
  {
   "cell_type": "code",
   "execution_count": 9,
   "id": "e4a2f977-e9ce-4650-b946-da4fb20bd7ca",
   "metadata": {},
   "outputs": [],
   "source": [
    "from kerchunk.combine import MultiZarrToZarr\n",
    "from kerchunk.hdf import SingleHdf5ToZarr\n",
    "import fsspec\n",
    "import os"
   ]
  },
  {
   "cell_type": "code",
   "execution_count": 2,
   "id": "ea9e8a10-a166-40b6-9d84-f112f048658a",
   "metadata": {},
   "outputs": [],
   "source": [
    "fs2 = fsspec.filesystem('')  #local file system to save final jsons to"
   ]
  },
  {
   "cell_type": "code",
   "execution_count": 3,
   "id": "29e776b2-c727-43be-971d-711a96875386",
   "metadata": {},
   "outputs": [],
   "source": [
    "json_list = fs2.glob(\"json_files/*.json\")"
   ]
  },
  {
   "cell_type": "code",
   "execution_count": 10,
   "id": "0d48cbdc-f3c6-40c7-8935-afc6235748dc",
   "metadata": {},
   "outputs": [],
   "source": [
    "# Set the account name, container name, and file path\n",
    "account_name = \"dasdata\"\n",
    "container_name = \"hdf5\"\n",
    "connection_string = os.environ['AZURE_CONSTR_dasdata']"
   ]
  },
  {
   "cell_type": "code",
   "execution_count": 11,
   "id": "73ab5fc0-6111-4d83-b748-3b931bacd38a",
   "metadata": {},
   "outputs": [
    {
     "ename": "JSONDecodeError",
     "evalue": "Expected object or value",
     "output_type": "error",
     "traceback": [
      "\u001b[0;31m---------------------------------------------------------------------------\u001b[0m",
      "\u001b[0;31mJSONDecodeError\u001b[0m                           Traceback (most recent call last)",
      "Input \u001b[0;32mIn [11]\u001b[0m, in \u001b[0;36m<cell line: 7>\u001b[0;34m()\u001b[0m\n\u001b[1;32m      1\u001b[0m mzz \u001b[38;5;241m=\u001b[39m MultiZarrToZarr(json_list,\n\u001b[1;32m      2\u001b[0m     remote_protocol\u001b[38;5;241m=\u001b[39m\u001b[38;5;124m'\u001b[39m\u001b[38;5;124maz\u001b[39m\u001b[38;5;124m'\u001b[39m,\n\u001b[1;32m      3\u001b[0m     remote_options\u001b[38;5;241m=\u001b[39m\u001b[38;5;28mdict\u001b[39m(account_name\u001b[38;5;241m=\u001b[39maccount_name),\n\u001b[1;32m      4\u001b[0m     concat_dims\u001b[38;5;241m=\u001b[39m[\u001b[38;5;124m'\u001b[39m\u001b[38;5;124mtime\u001b[39m\u001b[38;5;124m'\u001b[39m],\n\u001b[1;32m      5\u001b[0m     identical_dims \u001b[38;5;241m=\u001b[39m [\u001b[38;5;124m'\u001b[39m\u001b[38;5;124mlocus\u001b[39m\u001b[38;5;124m'\u001b[39m])\n\u001b[0;32m----> 7\u001b[0m d \u001b[38;5;241m=\u001b[39m \u001b[43mmzz\u001b[49m\u001b[38;5;241;43m.\u001b[39;49m\u001b[43mtranslate\u001b[49m\u001b[43m(\u001b[49m\u001b[43m)\u001b[49m\n\u001b[1;32m      9\u001b[0m \u001b[38;5;28;01mwith\u001b[39;00m fs2\u001b[38;5;241m.\u001b[39mopen(\u001b[38;5;124m'\u001b[39m\u001b[38;5;124mooiDAS_southTx.json\u001b[39m\u001b[38;5;124m'\u001b[39m, \u001b[38;5;124m'\u001b[39m\u001b[38;5;124mwb\u001b[39m\u001b[38;5;124m'\u001b[39m) \u001b[38;5;28;01mas\u001b[39;00m f:\n\u001b[1;32m     10\u001b[0m     f\u001b[38;5;241m.\u001b[39mwrite(ujson\u001b[38;5;241m.\u001b[39mdumps(d)\u001b[38;5;241m.\u001b[39mencode())\n",
      "File \u001b[0;32m~/anaconda3/envs/ooi_dev/lib/python3.10/site-packages/kerchunk/combine.py:479\u001b[0m, in \u001b[0;36mMultiZarrToZarr.translate\u001b[0;34m(self, filename, storage_options)\u001b[0m\n\u001b[1;32m    473\u001b[0m \u001b[38;5;124;03m\"\"\"Perform all stages and return the resultant references dict\u001b[39;00m\n\u001b[1;32m    474\u001b[0m \n\u001b[1;32m    475\u001b[0m \u001b[38;5;124;03mIf filename and storage options are given, the output is written to this\u001b[39;00m\n\u001b[1;32m    476\u001b[0m \u001b[38;5;124;03mfile using ujson and fsspec instead of being returned.\u001b[39;00m\n\u001b[1;32m    477\u001b[0m \u001b[38;5;124;03m\"\"\"\u001b[39;00m\n\u001b[1;32m    478\u001b[0m \u001b[38;5;28;01mif\u001b[39;00m \u001b[38;5;241m1\u001b[39m \u001b[38;5;129;01mnot\u001b[39;00m \u001b[38;5;129;01min\u001b[39;00m \u001b[38;5;28mself\u001b[39m\u001b[38;5;241m.\u001b[39mdone:\n\u001b[0;32m--> 479\u001b[0m     \u001b[38;5;28;43mself\u001b[39;49m\u001b[38;5;241;43m.\u001b[39;49m\u001b[43mfirst_pass\u001b[49m\u001b[43m(\u001b[49m\u001b[43m)\u001b[49m\n\u001b[1;32m    480\u001b[0m \u001b[38;5;28;01mif\u001b[39;00m \u001b[38;5;241m2\u001b[39m \u001b[38;5;129;01mnot\u001b[39;00m \u001b[38;5;129;01min\u001b[39;00m \u001b[38;5;28mself\u001b[39m\u001b[38;5;241m.\u001b[39mdone:\n\u001b[1;32m    481\u001b[0m     \u001b[38;5;28mself\u001b[39m\u001b[38;5;241m.\u001b[39mstore_coords()\n",
      "File \u001b[0;32m~/anaconda3/envs/ooi_dev/lib/python3.10/site-packages/kerchunk/combine.py:239\u001b[0m, in \u001b[0;36mMultiZarrToZarr.first_pass\u001b[0;34m(self)\u001b[0m\n\u001b[1;32m    236\u001b[0m \u001b[38;5;124;03m\"\"\"Accumulate the set of concat coords values across all inputs\"\"\"\u001b[39;00m\n\u001b[1;32m    238\u001b[0m coos \u001b[38;5;241m=\u001b[39m {c: \u001b[38;5;28mset\u001b[39m() \u001b[38;5;28;01mfor\u001b[39;00m c \u001b[38;5;129;01min\u001b[39;00m \u001b[38;5;28mself\u001b[39m\u001b[38;5;241m.\u001b[39mcoo_map}\n\u001b[0;32m--> 239\u001b[0m \u001b[38;5;28;01mfor\u001b[39;00m i, fs \u001b[38;5;129;01min\u001b[39;00m \u001b[38;5;28menumerate\u001b[39m(\u001b[38;5;28;43mself\u001b[39;49m\u001b[38;5;241;43m.\u001b[39;49m\u001b[43mfss\u001b[49m):\n\u001b[1;32m    240\u001b[0m     \u001b[38;5;28;01mif\u001b[39;00m \u001b[38;5;28mself\u001b[39m\u001b[38;5;241m.\u001b[39mpreprocess:\n\u001b[1;32m    241\u001b[0m         \u001b[38;5;28mself\u001b[39m\u001b[38;5;241m.\u001b[39mpreprocess(fs\u001b[38;5;241m.\u001b[39mreferences)\n",
      "File \u001b[0;32m~/anaconda3/envs/ooi_dev/lib/python3.10/site-packages/kerchunk/combine.py:163\u001b[0m, in \u001b[0;36mMultiZarrToZarr.fss\u001b[0;34m(self)\u001b[0m\n\u001b[1;32m    161\u001b[0m         fs \u001b[38;5;241m=\u001b[39m fsspec\u001b[38;5;241m.\u001b[39mcore\u001b[38;5;241m.\u001b[39murl_to_fs(\u001b[38;5;28mself\u001b[39m\u001b[38;5;241m.\u001b[39mpath[\u001b[38;5;241m0\u001b[39m], \u001b[38;5;241m*\u001b[39m\u001b[38;5;241m*\u001b[39m\u001b[38;5;28mself\u001b[39m\u001b[38;5;241m.\u001b[39mtarget_options)[\u001b[38;5;241m0\u001b[39m]\n\u001b[1;32m    162\u001b[0m         fo_list \u001b[38;5;241m=\u001b[39m fs\u001b[38;5;241m.\u001b[39mcat(\u001b[38;5;28mself\u001b[39m\u001b[38;5;241m.\u001b[39mpath)\n\u001b[0;32m--> 163\u001b[0m         fo_list \u001b[38;5;241m=\u001b[39m [ujson\u001b[38;5;241m.\u001b[39mloads(v) \u001b[38;5;28;01mfor\u001b[39;00m v \u001b[38;5;129;01min\u001b[39;00m fo_list\u001b[38;5;241m.\u001b[39mvalues()]\n\u001b[1;32m    165\u001b[0m     \u001b[38;5;28mself\u001b[39m\u001b[38;5;241m.\u001b[39m_fss \u001b[38;5;241m=\u001b[39m [\n\u001b[1;32m    166\u001b[0m         fsspec\u001b[38;5;241m.\u001b[39mfilesystem(\n\u001b[1;32m    167\u001b[0m             \u001b[38;5;124m\"\u001b[39m\u001b[38;5;124mreference\u001b[39m\u001b[38;5;124m\"\u001b[39m,\n\u001b[0;32m   (...)\u001b[0m\n\u001b[1;32m    172\u001b[0m         \u001b[38;5;28;01mfor\u001b[39;00m fo \u001b[38;5;129;01min\u001b[39;00m fo_list\n\u001b[1;32m    173\u001b[0m     ]\n\u001b[1;32m    174\u001b[0m \u001b[38;5;28;01mreturn\u001b[39;00m \u001b[38;5;28mself\u001b[39m\u001b[38;5;241m.\u001b[39m_fss\n",
      "File \u001b[0;32m~/anaconda3/envs/ooi_dev/lib/python3.10/site-packages/kerchunk/combine.py:163\u001b[0m, in \u001b[0;36m<listcomp>\u001b[0;34m(.0)\u001b[0m\n\u001b[1;32m    161\u001b[0m         fs \u001b[38;5;241m=\u001b[39m fsspec\u001b[38;5;241m.\u001b[39mcore\u001b[38;5;241m.\u001b[39murl_to_fs(\u001b[38;5;28mself\u001b[39m\u001b[38;5;241m.\u001b[39mpath[\u001b[38;5;241m0\u001b[39m], \u001b[38;5;241m*\u001b[39m\u001b[38;5;241m*\u001b[39m\u001b[38;5;28mself\u001b[39m\u001b[38;5;241m.\u001b[39mtarget_options)[\u001b[38;5;241m0\u001b[39m]\n\u001b[1;32m    162\u001b[0m         fo_list \u001b[38;5;241m=\u001b[39m fs\u001b[38;5;241m.\u001b[39mcat(\u001b[38;5;28mself\u001b[39m\u001b[38;5;241m.\u001b[39mpath)\n\u001b[0;32m--> 163\u001b[0m         fo_list \u001b[38;5;241m=\u001b[39m [\u001b[43mujson\u001b[49m\u001b[38;5;241;43m.\u001b[39;49m\u001b[43mloads\u001b[49m\u001b[43m(\u001b[49m\u001b[43mv\u001b[49m\u001b[43m)\u001b[49m \u001b[38;5;28;01mfor\u001b[39;00m v \u001b[38;5;129;01min\u001b[39;00m fo_list\u001b[38;5;241m.\u001b[39mvalues()]\n\u001b[1;32m    165\u001b[0m     \u001b[38;5;28mself\u001b[39m\u001b[38;5;241m.\u001b[39m_fss \u001b[38;5;241m=\u001b[39m [\n\u001b[1;32m    166\u001b[0m         fsspec\u001b[38;5;241m.\u001b[39mfilesystem(\n\u001b[1;32m    167\u001b[0m             \u001b[38;5;124m\"\u001b[39m\u001b[38;5;124mreference\u001b[39m\u001b[38;5;124m\"\u001b[39m,\n\u001b[0;32m   (...)\u001b[0m\n\u001b[1;32m    172\u001b[0m         \u001b[38;5;28;01mfor\u001b[39;00m fo \u001b[38;5;129;01min\u001b[39;00m fo_list\n\u001b[1;32m    173\u001b[0m     ]\n\u001b[1;32m    174\u001b[0m \u001b[38;5;28;01mreturn\u001b[39;00m \u001b[38;5;28mself\u001b[39m\u001b[38;5;241m.\u001b[39m_fss\n",
      "\u001b[0;31mJSONDecodeError\u001b[0m: Expected object or value"
     ]
    }
   ],
   "source": [
    "mzz = MultiZarrToZarr(json_list,\n",
    "    remote_protocol='az',\n",
    "    remote_options=dict(account_name=account_name),\n",
    "    concat_dims=['time'],\n",
    "    identical_dims = ['locus'])\n",
    "\n",
    "d = mzz.translate()\n",
    "\n",
    "with fs2.open('ooiDAS_southTx.json', 'wb') as f:\n",
    "    f.write(ujson.dumps(d).encode())"
   ]
  },
  {
   "cell_type": "code",
   "execution_count": null,
   "id": "256fbd60-d48a-4a26-be1c-89669e4c9478",
   "metadata": {},
   "outputs": [],
   "source": []
  }
 ],
 "metadata": {
  "kernelspec": {
   "display_name": "Python 3 (ipykernel)",
   "language": "python",
   "name": "python3"
  },
  "language_info": {
   "codemirror_mode": {
    "name": "ipython",
    "version": 3
   },
   "file_extension": ".py",
   "mimetype": "text/x-python",
   "name": "python",
   "nbconvert_exporter": "python",
   "pygments_lexer": "ipython3",
   "version": "3.10.4"
  }
 },
 "nbformat": 4,
 "nbformat_minor": 5
}

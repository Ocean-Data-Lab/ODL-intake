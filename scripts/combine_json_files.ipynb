{
 "cells": [
  {
   "cell_type": "markdown",
   "id": "95694073-204e-45c9-8761-30e9332ed71a",
   "metadata": {},
   "source": [
    "# combine json files"
   ]
  },
  {
   "cell_type": "code",
   "execution_count": 46,
   "id": "e4a2f977-e9ce-4650-b946-da4fb20bd7ca",
   "metadata": {},
   "outputs": [],
   "source": [
    "from kerchunk.combine import MultiZarrToZarr\n",
    "from kerchunk.hdf import SingleHdf5ToZarr\n",
    "import fsspec\n",
    "import os\n",
    "import zarr\n",
    "import dask.array\n",
    "from tqdm import tqdm\n",
    "import xarray as xr"
   ]
  },
  {
   "cell_type": "code",
   "execution_count": 2,
   "id": "ea9e8a10-a166-40b6-9d84-f112f048658a",
   "metadata": {},
   "outputs": [],
   "source": [
    "fs2 = fsspec.filesystem('')  #local file system to save final jsons to"
   ]
  },
  {
   "cell_type": "code",
   "execution_count": 3,
   "id": "29e776b2-c727-43be-971d-711a96875386",
   "metadata": {},
   "outputs": [],
   "source": [
    "json_list = fs2.glob(\"json_files/*.json\")"
   ]
  },
  {
   "cell_type": "code",
   "execution_count": 10,
   "id": "0d48cbdc-f3c6-40c7-8935-afc6235748dc",
   "metadata": {},
   "outputs": [],
   "source": [
    "# Set the account name, container name, and file path\n",
    "account_name = \"dasdata\"\n",
    "container_name = \"hdf5\"\n",
    "connection_string = os.environ['AZURE_CONSTR_dasdata']"
   ]
  },
  {
   "cell_type": "code",
   "execution_count": 47,
   "id": "c0bd3265-2cdc-4afd-b910-4a89bfe52f81",
   "metadata": {},
   "outputs": [
    {
     "name": "stderr",
     "output_type": "stream",
     "text": [
      "  6%|█████▋                                                                                    | 249/3980 [00:07<01:57, 31.77it/s]\n"
     ]
    },
    {
     "ename": "KeyboardInterrupt",
     "evalue": "",
     "output_type": "error",
     "traceback": [
      "\u001b[0;31m---------------------------------------------------------------------------\u001b[0m",
      "\u001b[0;31mKeyboardInterrupt\u001b[0m                         Traceback (most recent call last)",
      "Input \u001b[0;32mIn [47]\u001b[0m, in \u001b[0;36m<cell line: 2>\u001b[0;34m()\u001b[0m\n\u001b[1;32m      2\u001b[0m \u001b[38;5;28;01mfor\u001b[39;00m f \u001b[38;5;129;01min\u001b[39;00m tqdm(json_list):\n\u001b[1;32m      3\u001b[0m     storage_options \u001b[38;5;241m=\u001b[39m {\n\u001b[1;32m      4\u001b[0m         \u001b[38;5;124m'\u001b[39m\u001b[38;5;124mfo\u001b[39m\u001b[38;5;124m'\u001b[39m:f,\n\u001b[1;32m      5\u001b[0m         \u001b[38;5;124m'\u001b[39m\u001b[38;5;124mremote_protocol\u001b[39m\u001b[38;5;124m'\u001b[39m:\u001b[38;5;124m'\u001b[39m\u001b[38;5;124maz\u001b[39m\u001b[38;5;124m'\u001b[39m,\n\u001b[1;32m      6\u001b[0m         \u001b[38;5;124m'\u001b[39m\u001b[38;5;124mremote_options\u001b[39m\u001b[38;5;124m'\u001b[39m:\u001b[38;5;28mdict\u001b[39m(account_name\u001b[38;5;241m=\u001b[39maccount_name)\n\u001b[1;32m      7\u001b[0m     }\n\u001b[0;32m----> 9\u001b[0m     z \u001b[38;5;241m=\u001b[39m \u001b[43mzarr\u001b[49m\u001b[38;5;241;43m.\u001b[39;49m\u001b[43mopen\u001b[49m\u001b[43m(\u001b[49m\u001b[38;5;124;43m\"\u001b[39;49m\u001b[38;5;124;43mreference://\u001b[39;49m\u001b[38;5;124;43m\"\u001b[39;49m\u001b[43m,\u001b[49m\u001b[43m \u001b[49m\u001b[43mstorage_options\u001b[49m\u001b[38;5;241;43m=\u001b[39;49m\u001b[43mstorage_options\u001b[49m\u001b[43m)\u001b[49m\n\u001b[1;32m     10\u001b[0m     da \u001b[38;5;241m=\u001b[39m dask\u001b[38;5;241m.\u001b[39marray\u001b[38;5;241m.\u001b[39mfrom_zarr(z[\u001b[38;5;124m'\u001b[39m\u001b[38;5;124mAcquisition\u001b[39m\u001b[38;5;124m'\u001b[39m][\u001b[38;5;124m'\u001b[39m\u001b[38;5;124mRaw[0]\u001b[39m\u001b[38;5;124m'\u001b[39m][\u001b[38;5;124m'\u001b[39m\u001b[38;5;124mRawData\u001b[39m\u001b[38;5;124m'\u001b[39m])\n\u001b[1;32m     11\u001b[0m     dax \u001b[38;5;241m=\u001b[39m xr\u001b[38;5;241m.\u001b[39mDataArray(da)\n",
      "File \u001b[0;32m~/anaconda3/envs/ooi_dev/lib/python3.10/site-packages/zarr/convenience.py:96\u001b[0m, in \u001b[0;36mopen\u001b[0;34m(store, mode, zarr_version, path, **kwargs)\u001b[0m\n\u001b[1;32m     35\u001b[0m \u001b[38;5;124;03m\"\"\"Convenience function to open a group or array using file-mode-like semantics.\u001b[39;00m\n\u001b[1;32m     36\u001b[0m \n\u001b[1;32m     37\u001b[0m \u001b[38;5;124;03mParameters\u001b[39;00m\n\u001b[0;32m   (...)\u001b[0m\n\u001b[1;32m     90\u001b[0m \n\u001b[1;32m     91\u001b[0m \u001b[38;5;124;03m\"\"\"\u001b[39;00m\n\u001b[1;32m     93\u001b[0m \u001b[38;5;66;03m# handle polymorphic store arg\u001b[39;00m\n\u001b[1;32m     94\u001b[0m \u001b[38;5;66;03m# we pass storage options explicitly, since normalize_store_arg might construct\u001b[39;00m\n\u001b[1;32m     95\u001b[0m \u001b[38;5;66;03m# a store if the input is a fsspec-compatible URL\u001b[39;00m\n\u001b[0;32m---> 96\u001b[0m _store: BaseStore \u001b[38;5;241m=\u001b[39m \u001b[43mnormalize_store_arg\u001b[49m\u001b[43m(\u001b[49m\n\u001b[1;32m     97\u001b[0m \u001b[43m    \u001b[49m\u001b[43mstore\u001b[49m\u001b[43m,\u001b[49m\u001b[43m \u001b[49m\u001b[43mstorage_options\u001b[49m\u001b[38;5;241;43m=\u001b[39;49m\u001b[43mkwargs\u001b[49m\u001b[38;5;241;43m.\u001b[39;49m\u001b[43mpop\u001b[49m\u001b[43m(\u001b[49m\u001b[38;5;124;43m\"\u001b[39;49m\u001b[38;5;124;43mstorage_options\u001b[39;49m\u001b[38;5;124;43m\"\u001b[39;49m\u001b[43m,\u001b[49m\u001b[43m \u001b[49m\u001b[43m{\u001b[49m\u001b[43m}\u001b[49m\u001b[43m)\u001b[49m\u001b[43m,\u001b[49m\u001b[43m \u001b[49m\u001b[43mmode\u001b[49m\u001b[38;5;241;43m=\u001b[39;49m\u001b[43mmode\u001b[49m\u001b[43m,\u001b[49m\n\u001b[1;32m     98\u001b[0m \u001b[43m    \u001b[49m\u001b[43mzarr_version\u001b[49m\u001b[38;5;241;43m=\u001b[39;49m\u001b[43mzarr_version\u001b[49m\u001b[43m,\u001b[49m\n\u001b[1;32m     99\u001b[0m \u001b[43m\u001b[49m\u001b[43m)\u001b[49m\n\u001b[1;32m    100\u001b[0m \u001b[38;5;66;03m# path = _check_and_update_path(_store, path)\u001b[39;00m\n\u001b[1;32m    101\u001b[0m path \u001b[38;5;241m=\u001b[39m normalize_storage_path(path)\n",
      "File \u001b[0;32m~/anaconda3/envs/ooi_dev/lib/python3.10/site-packages/zarr/storage.py:181\u001b[0m, in \u001b[0;36mnormalize_store_arg\u001b[0;34m(store, storage_options, mode, zarr_version)\u001b[0m\n\u001b[1;32m    179\u001b[0m \u001b[38;5;28;01melse\u001b[39;00m:\n\u001b[1;32m    180\u001b[0m     \u001b[38;5;28;01mraise\u001b[39;00m \u001b[38;5;167;01mValueError\u001b[39;00m(\u001b[38;5;124m\"\u001b[39m\u001b[38;5;124mzarr_version must be either 2 or 3\u001b[39m\u001b[38;5;124m\"\u001b[39m)\n\u001b[0;32m--> 181\u001b[0m \u001b[38;5;28;01mreturn\u001b[39;00m \u001b[43mnormalize_store\u001b[49m\u001b[43m(\u001b[49m\u001b[43mstore\u001b[49m\u001b[43m,\u001b[49m\u001b[43m \u001b[49m\u001b[43mstorage_options\u001b[49m\u001b[43m,\u001b[49m\u001b[43m \u001b[49m\u001b[43mmode\u001b[49m\u001b[43m)\u001b[49m\n",
      "File \u001b[0;32m~/anaconda3/envs/ooi_dev/lib/python3.10/site-packages/zarr/storage.py:154\u001b[0m, in \u001b[0;36m_normalize_store_arg_v2\u001b[0;34m(store, storage_options, mode)\u001b[0m\n\u001b[1;32m    152\u001b[0m \u001b[38;5;28;01mif\u001b[39;00m \u001b[38;5;28misinstance\u001b[39m(store, \u001b[38;5;28mstr\u001b[39m):\n\u001b[1;32m    153\u001b[0m     \u001b[38;5;28;01mif\u001b[39;00m \u001b[38;5;124m\"\u001b[39m\u001b[38;5;124m://\u001b[39m\u001b[38;5;124m\"\u001b[39m \u001b[38;5;129;01min\u001b[39;00m store \u001b[38;5;129;01mor\u001b[39;00m \u001b[38;5;124m\"\u001b[39m\u001b[38;5;124m::\u001b[39m\u001b[38;5;124m\"\u001b[39m \u001b[38;5;129;01min\u001b[39;00m store:\n\u001b[0;32m--> 154\u001b[0m         \u001b[38;5;28;01mreturn\u001b[39;00m \u001b[43mFSStore\u001b[49m\u001b[43m(\u001b[49m\u001b[43mstore\u001b[49m\u001b[43m,\u001b[49m\u001b[43m \u001b[49m\u001b[43mmode\u001b[49m\u001b[38;5;241;43m=\u001b[39;49m\u001b[43mmode\u001b[49m\u001b[43m,\u001b[49m\u001b[43m \u001b[49m\u001b[38;5;241;43m*\u001b[39;49m\u001b[38;5;241;43m*\u001b[39;49m\u001b[43m(\u001b[49m\u001b[43mstorage_options\u001b[49m\u001b[43m \u001b[49m\u001b[38;5;129;43;01mor\u001b[39;49;00m\u001b[43m \u001b[49m\u001b[43m{\u001b[49m\u001b[43m}\u001b[49m\u001b[43m)\u001b[49m\u001b[43m)\u001b[49m\n\u001b[1;32m    155\u001b[0m     \u001b[38;5;28;01melif\u001b[39;00m storage_options:\n\u001b[1;32m    156\u001b[0m         \u001b[38;5;28;01mraise\u001b[39;00m \u001b[38;5;167;01mValueError\u001b[39;00m(\u001b[38;5;124m\"\u001b[39m\u001b[38;5;124mstorage_options passed with non-fsspec path\u001b[39m\u001b[38;5;124m\"\u001b[39m)\n",
      "File \u001b[0;32m~/anaconda3/envs/ooi_dev/lib/python3.10/site-packages/zarr/storage.py:1338\u001b[0m, in \u001b[0;36mFSStore.__init__\u001b[0;34m(self, url, normalize_keys, key_separator, mode, exceptions, dimension_separator, fs, check, create, missing_exceptions, **storage_options)\u001b[0m\n\u001b[1;32m   1336\u001b[0m \u001b[38;5;28;01mif\u001b[39;00m protocol \u001b[38;5;129;01min\u001b[39;00m (\u001b[38;5;28;01mNone\u001b[39;00m, \u001b[38;5;124m\"\u001b[39m\u001b[38;5;124mfile\u001b[39m\u001b[38;5;124m\"\u001b[39m) \u001b[38;5;129;01mand\u001b[39;00m \u001b[38;5;129;01mnot\u001b[39;00m storage_options\u001b[38;5;241m.\u001b[39mget(\u001b[38;5;124m\"\u001b[39m\u001b[38;5;124mauto_mkdir\u001b[39m\u001b[38;5;124m\"\u001b[39m):\n\u001b[1;32m   1337\u001b[0m     storage_options[\u001b[38;5;124m\"\u001b[39m\u001b[38;5;124mauto_mkdir\u001b[39m\u001b[38;5;124m\"\u001b[39m] \u001b[38;5;241m=\u001b[39m \u001b[38;5;28;01mTrue\u001b[39;00m\n\u001b[0;32m-> 1338\u001b[0m \u001b[38;5;28mself\u001b[39m\u001b[38;5;241m.\u001b[39mmap \u001b[38;5;241m=\u001b[39m \u001b[43mfsspec\u001b[49m\u001b[38;5;241;43m.\u001b[39;49m\u001b[43mget_mapper\u001b[49m\u001b[43m(\u001b[49m\u001b[43murl\u001b[49m\u001b[43m,\u001b[49m\u001b[43m \u001b[49m\u001b[38;5;241;43m*\u001b[39;49m\u001b[38;5;241;43m*\u001b[39;49m\u001b[43m{\u001b[49m\u001b[38;5;241;43m*\u001b[39;49m\u001b[38;5;241;43m*\u001b[39;49m\u001b[43mmapper_options\u001b[49m\u001b[43m,\u001b[49m\u001b[43m \u001b[49m\u001b[38;5;241;43m*\u001b[39;49m\u001b[38;5;241;43m*\u001b[39;49m\u001b[43mstorage_options\u001b[49m\u001b[43m}\u001b[49m\u001b[43m)\u001b[49m\n\u001b[1;32m   1339\u001b[0m \u001b[38;5;28mself\u001b[39m\u001b[38;5;241m.\u001b[39mfs \u001b[38;5;241m=\u001b[39m \u001b[38;5;28mself\u001b[39m\u001b[38;5;241m.\u001b[39mmap\u001b[38;5;241m.\u001b[39mfs  \u001b[38;5;66;03m# for direct operations\u001b[39;00m\n\u001b[1;32m   1340\u001b[0m \u001b[38;5;28mself\u001b[39m\u001b[38;5;241m.\u001b[39mpath \u001b[38;5;241m=\u001b[39m \u001b[38;5;28mself\u001b[39m\u001b[38;5;241m.\u001b[39mfs\u001b[38;5;241m.\u001b[39m_strip_protocol(url)\n",
      "File \u001b[0;32m~/anaconda3/envs/ooi_dev/lib/python3.10/site-packages/fsspec/mapping.py:237\u001b[0m, in \u001b[0;36mget_mapper\u001b[0;34m(url, check, create, missing_exceptions, alternate_root, **kwargs)\u001b[0m\n\u001b[1;32m    206\u001b[0m \u001b[38;5;124;03m\"\"\"Create key-value interface for given URL and options\u001b[39;00m\n\u001b[1;32m    207\u001b[0m \n\u001b[1;32m    208\u001b[0m \u001b[38;5;124;03mThe URL will be of the form \"protocol://location\" and point to the root\u001b[39;00m\n\u001b[0;32m   (...)\u001b[0m\n\u001b[1;32m    234\u001b[0m \u001b[38;5;124;03m``FSMap`` instance, the dict-like key-value store.\u001b[39;00m\n\u001b[1;32m    235\u001b[0m \u001b[38;5;124;03m\"\"\"\u001b[39;00m\n\u001b[1;32m    236\u001b[0m \u001b[38;5;66;03m# Removing protocol here - could defer to each open() on the backend\u001b[39;00m\n\u001b[0;32m--> 237\u001b[0m fs, urlpath \u001b[38;5;241m=\u001b[39m \u001b[43murl_to_fs\u001b[49m\u001b[43m(\u001b[49m\u001b[43murl\u001b[49m\u001b[43m,\u001b[49m\u001b[43m \u001b[49m\u001b[38;5;241;43m*\u001b[39;49m\u001b[38;5;241;43m*\u001b[39;49m\u001b[43mkwargs\u001b[49m\u001b[43m)\u001b[49m\n\u001b[1;32m    238\u001b[0m root \u001b[38;5;241m=\u001b[39m alternate_root \u001b[38;5;28;01mif\u001b[39;00m alternate_root \u001b[38;5;129;01mis\u001b[39;00m \u001b[38;5;129;01mnot\u001b[39;00m \u001b[38;5;28;01mNone\u001b[39;00m \u001b[38;5;28;01melse\u001b[39;00m urlpath\n\u001b[1;32m    239\u001b[0m \u001b[38;5;28;01mreturn\u001b[39;00m FSMap(root, fs, check, create, missing_exceptions\u001b[38;5;241m=\u001b[39mmissing_exceptions)\n",
      "File \u001b[0;32m~/anaconda3/envs/ooi_dev/lib/python3.10/site-packages/fsspec/core.py:365\u001b[0m, in \u001b[0;36murl_to_fs\u001b[0;34m(url, **kwargs)\u001b[0m\n\u001b[1;32m    363\u001b[0m     inkwargs[\u001b[38;5;124m\"\u001b[39m\u001b[38;5;124mfo\u001b[39m\u001b[38;5;124m\"\u001b[39m] \u001b[38;5;241m=\u001b[39m urls\n\u001b[1;32m    364\u001b[0m urlpath, protocol, _ \u001b[38;5;241m=\u001b[39m chain[\u001b[38;5;241m0\u001b[39m]\n\u001b[0;32m--> 365\u001b[0m fs \u001b[38;5;241m=\u001b[39m \u001b[43mfilesystem\u001b[49m\u001b[43m(\u001b[49m\u001b[43mprotocol\u001b[49m\u001b[43m,\u001b[49m\u001b[43m \u001b[49m\u001b[38;5;241;43m*\u001b[39;49m\u001b[38;5;241;43m*\u001b[39;49m\u001b[43minkwargs\u001b[49m\u001b[43m)\u001b[49m\n\u001b[1;32m    366\u001b[0m \u001b[38;5;28;01mreturn\u001b[39;00m fs, urlpath\n",
      "File \u001b[0;32m~/anaconda3/envs/ooi_dev/lib/python3.10/site-packages/fsspec/registry.py:253\u001b[0m, in \u001b[0;36mfilesystem\u001b[0;34m(protocol, **storage_options)\u001b[0m\n\u001b[1;32m    246\u001b[0m     warnings\u001b[38;5;241m.\u001b[39mwarn(\n\u001b[1;32m    247\u001b[0m         \u001b[38;5;124m\"\u001b[39m\u001b[38;5;124mThe \u001b[39m\u001b[38;5;124m'\u001b[39m\u001b[38;5;124marrow_hdfs\u001b[39m\u001b[38;5;124m'\u001b[39m\u001b[38;5;124m protocol has been deprecated and will be \u001b[39m\u001b[38;5;124m\"\u001b[39m\n\u001b[1;32m    248\u001b[0m         \u001b[38;5;124m\"\u001b[39m\u001b[38;5;124mremoved in the future. Specify it as \u001b[39m\u001b[38;5;124m'\u001b[39m\u001b[38;5;124mhdfs\u001b[39m\u001b[38;5;124m'\u001b[39m\u001b[38;5;124m.\u001b[39m\u001b[38;5;124m\"\u001b[39m,\n\u001b[1;32m    249\u001b[0m         \u001b[38;5;167;01mDeprecationWarning\u001b[39;00m,\n\u001b[1;32m    250\u001b[0m     )\n\u001b[1;32m    252\u001b[0m \u001b[38;5;28mcls\u001b[39m \u001b[38;5;241m=\u001b[39m get_filesystem_class(protocol)\n\u001b[0;32m--> 253\u001b[0m \u001b[38;5;28;01mreturn\u001b[39;00m \u001b[38;5;28;43mcls\u001b[39;49m\u001b[43m(\u001b[49m\u001b[38;5;241;43m*\u001b[39;49m\u001b[38;5;241;43m*\u001b[39;49m\u001b[43mstorage_options\u001b[49m\u001b[43m)\u001b[49m\n",
      "File \u001b[0;32m~/anaconda3/envs/ooi_dev/lib/python3.10/site-packages/fsspec/spec.py:76\u001b[0m, in \u001b[0;36m_Cached.__call__\u001b[0;34m(cls, *args, **kwargs)\u001b[0m\n\u001b[1;32m     74\u001b[0m     \u001b[38;5;28;01mreturn\u001b[39;00m \u001b[38;5;28mcls\u001b[39m\u001b[38;5;241m.\u001b[39m_cache[token]\n\u001b[1;32m     75\u001b[0m \u001b[38;5;28;01melse\u001b[39;00m:\n\u001b[0;32m---> 76\u001b[0m     obj \u001b[38;5;241m=\u001b[39m \u001b[38;5;28;43msuper\u001b[39;49m\u001b[43m(\u001b[49m\u001b[43m)\u001b[49m\u001b[38;5;241;43m.\u001b[39;49m\u001b[38;5;21;43m__call__\u001b[39;49m\u001b[43m(\u001b[49m\u001b[38;5;241;43m*\u001b[39;49m\u001b[43margs\u001b[49m\u001b[43m,\u001b[49m\u001b[43m \u001b[49m\u001b[38;5;241;43m*\u001b[39;49m\u001b[38;5;241;43m*\u001b[39;49m\u001b[43mkwargs\u001b[49m\u001b[43m)\u001b[49m\n\u001b[1;32m     77\u001b[0m     \u001b[38;5;66;03m# Setting _fs_token here causes some static linters to complain.\u001b[39;00m\n\u001b[1;32m     78\u001b[0m     obj\u001b[38;5;241m.\u001b[39m_fs_token_ \u001b[38;5;241m=\u001b[39m token\n",
      "File \u001b[0;32m~/anaconda3/envs/ooi_dev/lib/python3.10/site-packages/fsspec/implementations/reference.py:166\u001b[0m, in \u001b[0;36mReferenceFileSystem.__init__\u001b[0;34m(self, fo, target, ref_storage_args, target_protocol, target_options, remote_protocol, remote_options, fs, template_overrides, simple_templates, max_gap, max_block, **kwargs)\u001b[0m\n\u001b[1;32m    164\u001b[0m     \u001b[38;5;28;01mwith\u001b[39;00m \u001b[38;5;28mopen\u001b[39m(fo, \u001b[38;5;124m\"\u001b[39m\u001b[38;5;124mrb\u001b[39m\u001b[38;5;124m\"\u001b[39m, \u001b[38;5;241m*\u001b[39m\u001b[38;5;241m*\u001b[39mdic) \u001b[38;5;28;01mas\u001b[39;00m f:\n\u001b[1;32m    165\u001b[0m         logger\u001b[38;5;241m.\u001b[39minfo(\u001b[38;5;124m\"\u001b[39m\u001b[38;5;124mRead reference from URL \u001b[39m\u001b[38;5;132;01m%s\u001b[39;00m\u001b[38;5;124m\"\u001b[39m, fo)\n\u001b[0;32m--> 166\u001b[0m         text \u001b[38;5;241m=\u001b[39m \u001b[43mjson\u001b[49m\u001b[38;5;241;43m.\u001b[39;49m\u001b[43mload\u001b[49m\u001b[43m(\u001b[49m\u001b[43mf\u001b[49m\u001b[43m)\u001b[49m\n\u001b[1;32m    167\u001b[0m \u001b[38;5;28;01melse\u001b[39;00m:\n\u001b[1;32m    168\u001b[0m     \u001b[38;5;66;03m# dictionaries\u001b[39;00m\n\u001b[1;32m    169\u001b[0m     text \u001b[38;5;241m=\u001b[39m fo\n",
      "\u001b[0;31mKeyboardInterrupt\u001b[0m: "
     ]
    }
   ],
   "source": [
    "daxs = []\n",
    "for f in tqdm(json_list):\n",
    "    storage_options = {\n",
    "        'fo':f,\n",
    "        'remote_protocol':'az',\n",
    "        'remote_options':dict(account_name=account_name)\n",
    "    }\n",
    "\n",
    "    z = zarr.open(\"reference://\", storage_options=storage_options)\n",
    "    da = dask.array.from_zarr(z['Acquisition']['Raw[0]']['RawData'])\n",
    "    dax = xr.DataArray(da)\n",
    "    \n",
    "    daxs.append(dax)"
   ]
  },
  {
   "cell_type": "code",
   "execution_count": 15,
   "id": "73ab5fc0-6111-4d83-b748-3b931bacd38a",
   "metadata": {},
   "outputs": [],
   "source": [
    "storage_options = {\n",
    "    'fo':'json_files/South-C1-LR-95km-P1kHz-GL50m-SP2m-FS200Hz_2021-11-01T231114Z.json',\n",
    "    'remote_protocol':'az',\n",
    "    'remote_options':dict(account_name=account_name)\n",
    "}\n",
    "\n",
    "z = zarr.open(\"reference://\", storage_options=storage_options)"
   ]
  },
  {
   "cell_type": "code",
   "execution_count": 32,
   "id": "a2cddb8b-3fa4-40a0-88ea-832b6e8247b1",
   "metadata": {},
   "outputs": [],
   "source": [
    "da = dask.array.from_zarr(z['Acquisition']['Raw[0]']['RawData'])"
   ]
  },
  {
   "cell_type": "code",
   "execution_count": 33,
   "id": "a6b623e3-4665-473a-9624-1de4e7704db6",
   "metadata": {},
   "outputs": [
    {
     "data": {
      "text/html": [
       "<table>\n",
       "    <tr>\n",
       "        <td>\n",
       "            <table>\n",
       "                <thead>\n",
       "                    <tr>\n",
       "                        <td> </td>\n",
       "                        <th> Array </th>\n",
       "                        <th> Chunk </th>\n",
       "                    </tr>\n",
       "                </thead>\n",
       "                <tbody>\n",
       "                    \n",
       "                    <tr>\n",
       "                        <th> Bytes </th>\n",
       "                        <td> 2.12 GiB </td>\n",
       "                        <td> 255.41 kiB </td>\n",
       "                    </tr>\n",
       "                    \n",
       "                    <tr>\n",
       "                        <th> Shape </th>\n",
       "                        <td> (47500, 12000) </td>\n",
       "                        <td> (743, 88) </td>\n",
       "                    </tr>\n",
       "                    <tr>\n",
       "                        <th> Count </th>\n",
       "                        <td> 2 Graph Layers </td>\n",
       "                        <td> 8768 Chunks </td>\n",
       "                    </tr>\n",
       "                    <tr>\n",
       "                    <th> Type </th>\n",
       "                    <td> int32 </td>\n",
       "                    <td> numpy.ndarray </td>\n",
       "                    </tr>\n",
       "                </tbody>\n",
       "            </table>\n",
       "        </td>\n",
       "        <td>\n",
       "        <svg width=\"92\" height=\"170\" style=\"stroke:rgb(0,0,0);stroke-width:1\" >\n",
       "\n",
       "  <!-- Horizontal lines -->\n",
       "  <line x1=\"0\" y1=\"0\" x2=\"42\" y2=\"0\" style=\"stroke-width:2\" />\n",
       "  <line x1=\"0\" y1=\"5\" x2=\"42\" y2=\"5\" />\n",
       "  <line x1=\"0\" y1=\"11\" x2=\"42\" y2=\"11\" />\n",
       "  <line x1=\"0\" y1=\"18\" x2=\"42\" y2=\"18\" />\n",
       "  <line x1=\"0\" y1=\"24\" x2=\"42\" y2=\"24\" />\n",
       "  <line x1=\"0\" y1=\"30\" x2=\"42\" y2=\"30\" />\n",
       "  <line x1=\"0\" y1=\"37\" x2=\"42\" y2=\"37\" />\n",
       "  <line x1=\"0\" y1=\"43\" x2=\"42\" y2=\"43\" />\n",
       "  <line x1=\"0\" y1=\"48\" x2=\"42\" y2=\"48\" />\n",
       "  <line x1=\"0\" y1=\"56\" x2=\"42\" y2=\"56\" />\n",
       "  <line x1=\"0\" y1=\"61\" x2=\"42\" y2=\"61\" />\n",
       "  <line x1=\"0\" y1=\"69\" x2=\"42\" y2=\"69\" />\n",
       "  <line x1=\"0\" y1=\"75\" x2=\"42\" y2=\"75\" />\n",
       "  <line x1=\"0\" y1=\"80\" x2=\"42\" y2=\"80\" />\n",
       "  <line x1=\"0\" y1=\"88\" x2=\"42\" y2=\"88\" />\n",
       "  <line x1=\"0\" y1=\"93\" x2=\"42\" y2=\"93\" />\n",
       "  <line x1=\"0\" y1=\"99\" x2=\"42\" y2=\"99\" />\n",
       "  <line x1=\"0\" y1=\"106\" x2=\"42\" y2=\"106\" />\n",
       "  <line x1=\"0\" y1=\"112\" x2=\"42\" y2=\"112\" />\n",
       "  <line x1=\"0\" y1=\"120\" x2=\"42\" y2=\"120\" style=\"stroke-width:2\" />\n",
       "\n",
       "  <!-- Vertical lines -->\n",
       "  <line x1=\"0\" y1=\"0\" x2=\"0\" y2=\"120\" style=\"stroke-width:2\" />\n",
       "  <line x1=\"2\" y1=\"0\" x2=\"2\" y2=\"120\" />\n",
       "  <line x1=\"4\" y1=\"0\" x2=\"4\" y2=\"120\" />\n",
       "  <line x1=\"6\" y1=\"0\" x2=\"6\" y2=\"120\" />\n",
       "  <line x1=\"8\" y1=\"0\" x2=\"8\" y2=\"120\" />\n",
       "  <line x1=\"11\" y1=\"0\" x2=\"11\" y2=\"120\" />\n",
       "  <line x1=\"13\" y1=\"0\" x2=\"13\" y2=\"120\" />\n",
       "  <line x1=\"15\" y1=\"0\" x2=\"15\" y2=\"120\" />\n",
       "  <line x1=\"17\" y1=\"0\" x2=\"17\" y2=\"120\" />\n",
       "  <line x1=\"20\" y1=\"0\" x2=\"20\" y2=\"120\" />\n",
       "  <line x1=\"22\" y1=\"0\" x2=\"22\" y2=\"120\" />\n",
       "  <line x1=\"24\" y1=\"0\" x2=\"24\" y2=\"120\" />\n",
       "  <line x1=\"27\" y1=\"0\" x2=\"27\" y2=\"120\" />\n",
       "  <line x1=\"29\" y1=\"0\" x2=\"29\" y2=\"120\" />\n",
       "  <line x1=\"31\" y1=\"0\" x2=\"31\" y2=\"120\" />\n",
       "  <line x1=\"34\" y1=\"0\" x2=\"34\" y2=\"120\" />\n",
       "  <line x1=\"36\" y1=\"0\" x2=\"36\" y2=\"120\" />\n",
       "  <line x1=\"38\" y1=\"0\" x2=\"38\" y2=\"120\" />\n",
       "  <line x1=\"40\" y1=\"0\" x2=\"40\" y2=\"120\" />\n",
       "  <line x1=\"42\" y1=\"0\" x2=\"42\" y2=\"120\" style=\"stroke-width:2\" />\n",
       "\n",
       "  <!-- Colored Rectangle -->\n",
       "  <polygon points=\"0.0,0.0 42.93784374479722,0.0 42.93784374479722,120.0 0.0,120.0\" style=\"fill:#8B4903A0;stroke-width:0\"/>\n",
       "\n",
       "  <!-- Text -->\n",
       "  <text x=\"21.468922\" y=\"140.000000\" font-size=\"1.0rem\" font-weight=\"100\" text-anchor=\"middle\" >12000</text>\n",
       "  <text x=\"62.937844\" y=\"60.000000\" font-size=\"1.0rem\" font-weight=\"100\" text-anchor=\"middle\" transform=\"rotate(-90,62.937844,60.000000)\">47500</text>\n",
       "</svg>\n",
       "        </td>\n",
       "    </tr>\n",
       "</table>"
      ],
      "text/plain": [
       "dask.array<from-zarr, shape=(47500, 12000), dtype=int32, chunksize=(743, 88), chunktype=numpy.ndarray>"
      ]
     },
     "execution_count": 33,
     "metadata": {},
     "output_type": "execute_result"
    }
   ],
   "source": [
    "da"
   ]
  },
  {
   "cell_type": "code",
   "execution_count": null,
   "id": "256fbd60-d48a-4a26-be1c-89669e4c9478",
   "metadata": {},
   "outputs": [],
   "source": [
    "mzz = MultiZarrToZarr(json_list,\n",
    "    remote_protocol='az',\n",
    "    remote_options=dict(account_name=account_name),\n",
    "    concat_dims=['time'],\n",
    "    identical_dims = ['locus'])\n",
    "\n",
    "d = mzz.translate()\n",
    "\n",
    "with fs2.open('ooiDAS_southTx.json', 'wb') as f:\n",
    "    f.write(ujson.dumps(d).encode())"
   ]
  }
 ],
 "metadata": {
  "kernelspec": {
   "display_name": "Python 3 (ipykernel)",
   "language": "python",
   "name": "python3"
  },
  "language_info": {
   "codemirror_mode": {
    "name": "ipython",
    "version": 3
   },
   "file_extension": ".py",
   "mimetype": "text/x-python",
   "name": "python",
   "nbconvert_exporter": "python",
   "pygments_lexer": "ipython3",
   "version": "3.10.4"
  }
 },
 "nbformat": 4,
 "nbformat_minor": 5
}
